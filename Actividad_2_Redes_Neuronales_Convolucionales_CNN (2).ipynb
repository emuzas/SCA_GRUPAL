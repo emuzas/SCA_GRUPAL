{
  "cells": [
    {
      "cell_type": "markdown",
      "metadata": {
        "id": "mX8gZlVyCCbz"
      },
      "source": [
        "# ACTIVIDAD 2: REDES NEURONALES CONVOLUCIONALES\n",
        "\n",
        "---\n",
        "\n",
        "En esta actividad, vamos a trabajar con Convolutional Neural Networks para resolver un problema de clasificación de imágenes. En particular, vamos a clasificar imágenes de personajes de la conocida serie de los Simpsons.\n",
        "\n",
        "Como las CNN profundas son un tipo de modelo bastante avanzado y computacionalmente costoso, se recomienda hacer la práctica en Google Colaboratory con soporte para GPUs. En [este enlace](https://medium.com/deep-learning-turkey/google-colab-free-gpu-tutorial-e113627b9f5d) se explica cómo activar un entorno con GPUs. *Nota: para leer las imágenes y estandarizarlas al mismo tamaño se usa la librería opencv. Esta ĺibrería está ya instalada en el entorno de Colab, pero si trabajáis de manera local tendréis que instalarla.*\n",
        "\n",
        "<center><img src=\"https://i.imgur.com/i8zIGqX.jpg\" style=\"text-align: center\" height=\"300px\"></center>\n",
        "\n",
        "El dataset a utilizar consiste en imágenes de personajes de los Simpsons extraídas directamente de capítulos de la serie. Este dataset ha sido recopilado por [Alexandre Attia](http://www.alexattia.fr/) y es más complejo que el dataset de Fashion MNIST que hemos utilizado hasta ahora. Aparte de tener más clases (vamos a utilizar los 18 personajes con más imágenes), los personajes pueden aparecer en distintas poses, en distintas posiciones de la imagen o con otros personajes en pantalla (si bien el personaje a clasificar siempre aparece en la posición predominante).\n",
        "\n",
        "El dataset de training puede ser descargado desde aquí:\n",
        "\n",
        "[Training data](https://onedrive.live.com/download?cid=C506CF0A4F373B0F&resid=C506CF0A4F373B0F%219337&authkey=AMzI92bJPx8Sd60) (~500MB)\n",
        "\n",
        "Por otro lado, el dataset de test puede ser descargado de aquí:\n",
        "\n",
        "[Test data](https://onedrive.live.com/download?cid=C506CF0A4F373B0F&resid=C506CF0A4F373B0F%219341&authkey=ANnjK3Uq1FhuAe8) (~10MB)\n",
        "\n",
        "Antes de empezar la práctica, se recomienda descargar las imágenes y echarlas un vistazo.\n"
      ]
    },
    {
      "cell_type": "markdown",
      "metadata": {
        "id": "QI274F8LQC59"
      },
      "source": [
        "## Carga de los datos"
      ]
    },
    {
      "cell_type": "code",
      "execution_count": 2,
      "metadata": {
        "id": "D7tKOZ9BFfki"
      },
      "outputs": [],
      "source": [
        "import cv2\n",
        "import os\n",
        "import numpy as np \n",
        "import keras\n",
        "from tensorflow import keras\n",
        "import matplotlib.pyplot as plt\n",
        "import glob\n",
        "import tensorflow as tf\n",
        "from sklearn.model_selection import train_test_split\n",
        "\n",
        "\n"
      ]
    },
    {
      "cell_type": "code",
      "execution_count": 3,
      "metadata": {
        "id": "iw0apA7ruy1c",
        "outputId": "d000ba7a-8565-4095-b04a-dc7795613963",
        "colab": {
          "base_uri": "https://localhost:8080/"
        }
      },
      "outputs": [
        {
          "output_type": "stream",
          "name": "stdout",
          "text": [
            "Downloading data from https://onedrive.live.com/download?cid=C506CF0A4F373B0F&resid=C506CF0A4F373B0F%219337&authkey=AMzI92bJPx8Sd60\n",
            "523789527/523789527 [==============================] - 24s 0us/step\n",
            "Downloading data from https://onedrive.live.com/download?cid=C506CF0A4F373B0F&resid=C506CF0A4F373B0F%219341&authkey=ANnjK3Uq1FhuAe8\n",
            "10658925/10658925 [==============================] - 3s 0us/step\n"
          ]
        }
      ],
      "source": [
        "# Primero, bajamos los datos de entrenamiento\n",
        "keras.utils.get_file(fname=\"simpsons_train.tar.gz\", \n",
        "                     origin=\"https://onedrive.live.com/download?cid=C506CF0A4F373B0F&resid=C506CF0A4F373B0F%219337&authkey=AMzI92bJPx8Sd60\")\n",
        "\n",
        "# Descomprimimos el archivo\n",
        "!tar -xzf /root/.keras/datasets/simpsons_train.tar.gz -C /root/.keras/datasets\n",
        "\n",
        "\n",
        "# Hacemos lo mismo con los datos de test\n",
        "keras.utils.get_file(fname=\"simpsons_test.tar.gz\", \n",
        "                     origin=\"https://onedrive.live.com/download?cid=C506CF0A4F373B0F&resid=C506CF0A4F373B0F%219341&authkey=ANnjK3Uq1FhuAe8\")\n",
        "!tar -xzf /root/.keras/datasets/simpsons_test.tar.gz -C /root/.keras/datasets"
      ]
    },
    {
      "cell_type": "code",
      "execution_count": 4,
      "metadata": {
        "id": "_HIhp512sPUJ"
      },
      "outputs": [],
      "source": [
        "# Descomprimimos el archivo en tmp para visualizar\n",
        "# !tar -xzf /root/.keras/datasets/simpsons_train.tar.gz -C /tmp/simpsons"
      ]
    },
    {
      "cell_type": "code",
      "source": [],
      "metadata": {
        "id": "5Q4VaiHIQUO6"
      },
      "execution_count": 4,
      "outputs": []
    },
    {
      "cell_type": "code",
      "execution_count": 5,
      "metadata": {
        "id": "hMFhe3COFwSD"
      },
      "outputs": [],
      "source": [
        "# Esta variable contiene un mapeo de número de clase a personaje.\n",
        "# Utilizamos sólo los 18 personajes del dataset que tienen más imágenes.\n",
        "MAP_CHARACTERS = {\n",
        "    0: 'abraham_grampa_simpson', 1: 'apu_nahasapeemapetilon', 2: 'bart_simpson',\n",
        "    3: 'charles_montgomery_burns', 4: 'chief_wiggum', 5: 'comic_book_guy', 6: 'edna_krabappel', \n",
        "    7: 'homer_simpson', 8: 'kent_brockman', 9: 'krusty_the_clown', 10: 'lisa_simpson', \n",
        "    11: 'marge_simpson', 12: 'milhouse_van_houten', 13: 'moe_szyslak', \n",
        "    14: 'ned_flanders', 15: 'nelson_muntz', 16: 'principal_skinner', 17: 'sideshow_bob'\n",
        "}\n",
        "\n",
        "# Vamos a standarizar todas las imágenes a tamaño 64x64\n",
        "IMG_SIZE = 60"
      ]
    },
    {
      "cell_type": "code",
      "execution_count": 6,
      "metadata": {
        "id": "5bJ0NsbCbupF"
      },
      "outputs": [],
      "source": [
        "def load_train_set(dirname, map_characters, verbose=True):\n",
        "    \"\"\"Esta función carga los datos de training en imágenes.\n",
        "    \n",
        "    Como las imágenes tienen tamaños distintas, utilizamos la librería opencv\n",
        "    para hacer un resize y adaptarlas todas a tamaño IMG_SIZE x IMG_SIZE.\n",
        "    \n",
        "    Args:\n",
        "        dirname: directorio completo del que leer los datos\n",
        "        map_characters: variable de mapeo entre labels y personajes\n",
        "        verbose: si es True, muestra información de las imágenes cargadas\n",
        "     \n",
        "    Returns:\n",
        "        X, y: X es un array con todas las imágenes cargadas con tamaño\n",
        "                IMG_SIZE x IMG_SIZE\n",
        "              y es un array con las labels de correspondientes a cada imagen\n",
        "    \"\"\"\n",
        "    X_train = []\n",
        "    y_train = []\n",
        "    for label, character in map_characters.items():        \n",
        "        files = os.listdir(os.path.join(dirname, character))\n",
        "        images = [file for file in files if file.endswith(\"jpg\")]\n",
        "        if verbose:\n",
        "          print(\"Leyendo {} imágenes encontradas de {}\".format(len(images), character))\n",
        "        for image_name in images:\n",
        "            image = cv2.imread(os.path.join(dirname, character, image_name))\n",
        "            X_train.append(cv2.resize(image,(IMG_SIZE, IMG_SIZE)))\n",
        "            y_train.append(label)\n",
        "    return np.array(X_train), np.array(y_train)"
      ]
    },
    {
      "cell_type": "code",
      "execution_count": 7,
      "metadata": {
        "id": "NslxhnnDK6uA"
      },
      "outputs": [],
      "source": [
        "def load_test_set(dirname, map_characters, verbose=True):\n",
        "    \"\"\"Esta función funciona de manera equivalente a la función load_train_set\n",
        "    pero cargando los datos de test.\"\"\"\n",
        "    X_test = []\n",
        "    y_test = []\n",
        "    reverse_dict = {v: k for k, v in map_characters.items()}\n",
        "    for filename in glob.glob(dirname + '/*.*'):\n",
        "        char_name = \"_\".join(filename.split('/')[-1].split('_')[:-1])\n",
        "        if char_name in reverse_dict:\n",
        "            image = cv2.imread(filename)\n",
        "            image = cv2.resize(image, (IMG_SIZE, IMG_SIZE))\n",
        "            X_test.append(image)\n",
        "            y_test.append(reverse_dict[char_name])\n",
        "    if verbose:\n",
        "        print(\"Leídas {} imágenes de test\".format(len(X_test)))\n",
        "    return np.array(X_test), np.array(y_test)\n"
      ]
    },
    {
      "cell_type": "code",
      "execution_count": 8,
      "metadata": {
        "colab": {
          "base_uri": "https://localhost:8080/"
        },
        "id": "WVWqKxFcbwTu",
        "outputId": "ddc73ec4-fea3-4940-fbc3-c259b90758e5"
      },
      "outputs": [
        {
          "output_type": "stream",
          "name": "stdout",
          "text": [
            "Leyendo 913 imágenes encontradas de abraham_grampa_simpson\n",
            "Leyendo 623 imágenes encontradas de apu_nahasapeemapetilon\n",
            "Leyendo 1342 imágenes encontradas de bart_simpson\n",
            "Leyendo 1193 imágenes encontradas de charles_montgomery_burns\n",
            "Leyendo 986 imágenes encontradas de chief_wiggum\n",
            "Leyendo 469 imágenes encontradas de comic_book_guy\n",
            "Leyendo 457 imágenes encontradas de edna_krabappel\n",
            "Leyendo 2246 imágenes encontradas de homer_simpson\n",
            "Leyendo 498 imágenes encontradas de kent_brockman\n",
            "Leyendo 1206 imágenes encontradas de krusty_the_clown\n",
            "Leyendo 1354 imágenes encontradas de lisa_simpson\n",
            "Leyendo 1291 imágenes encontradas de marge_simpson\n",
            "Leyendo 1079 imágenes encontradas de milhouse_van_houten\n",
            "Leyendo 1452 imágenes encontradas de moe_szyslak\n",
            "Leyendo 1454 imágenes encontradas de ned_flanders\n",
            "Leyendo 358 imágenes encontradas de nelson_muntz\n",
            "Leyendo 1194 imágenes encontradas de principal_skinner\n",
            "Leyendo 877 imágenes encontradas de sideshow_bob\n",
            "Leídas 890 imágenes de test\n"
          ]
        }
      ],
      "source": [
        "# Cargamos los datos. Si no estás trabajando en colab, cambia los paths por\n",
        "# los de los ficheros donde hayas descargado los datos.\n",
        "DATASET_TRAIN_PATH_COLAB = \"/root/.keras/datasets/simpsons\"\n",
        "DATASET_TEST_PATH_COLAB = \"/root/.keras/datasets/simpsons_testset\"\n",
        "\n",
        "X, y = load_train_set(DATASET_TRAIN_PATH_COLAB, MAP_CHARACTERS)\n",
        "X_t, y_t = load_test_set(DATASET_TEST_PATH_COLAB, MAP_CHARACTERS)"
      ]
    },
    {
      "cell_type": "code",
      "execution_count": 9,
      "metadata": {
        "id": "2GY4vTFyfffv"
      },
      "outputs": [],
      "source": [
        "# Vamos a barajar aleatoriamente los datos. Esto es importante ya que si no\n",
        "# lo hacemos y, por ejemplo, cogemos el 20% de los datos finales como validation\n",
        "# set, estaremos utilizando solo un pequeño número de personajes, ya que\n",
        "# las imágenes se leen secuencialmente personaje a personaje.\n",
        "perm = np.random.permutation(len(X))\n",
        "X, y = X[perm], y[perm]"
      ]
    },
    {
      "cell_type": "code",
      "execution_count": 10,
      "metadata": {
        "colab": {
          "base_uri": "https://localhost:8080/",
          "height": 449
        },
        "id": "IOoQ7_0GrylF",
        "outputId": "d78556a0-031e-4231-e1e9-e86e54c06501"
      },
      "outputs": [
        {
          "output_type": "execute_result",
          "data": {
            "text/plain": [
              "<matplotlib.image.AxesImage at 0x7f53f728ea10>"
            ]
          },
          "metadata": {},
          "execution_count": 10
        },
        {
          "output_type": "display_data",
          "data": {
            "text/plain": [
              "<Figure size 640x480 with 1 Axes>"
            ],
            "image/png": "[encoded data removed]"
          },
          "metadata": {}
        }
      ],
      "source": [
        "plt.imshow(X_t[2]) # recordad que siempre es preferible trabajar en blanco y negro\n"
      ]
    },
    {
      "cell_type": "markdown",
      "metadata": {
        "id": "pBbmz9DMhVhc"
      },
      "source": [
        "## Ejercicio\n",
        "\n",
        "Utilizando Convolutional Neural Networks con Keras, entrenar un clasificador que sea capaz de reconocer personajes en imágenes de los Simpsons con una accuracy en el dataset de test de, al menos, **85%**. Redactar un informe analizando varias de las alternativas probadas y los resultados obtenidos.\n",
        "\n",
        "A continuación se detallan una serie de aspectos orientativos que podrían ser analizados en vuestro informe (no es necesario tratar todos ellos ni mucho menos, esto son ideas orientativas de aspectos que podéis explorar):\n",
        "\n",
        "*   Análisis de los datos a utilizar.\n",
        "*   Análisis de resultados, obtención de métricas de *precision* y *recall* por clase y análisis de qué clases obtienen mejores o peores resultados.\n",
        "*   Análisis visual de los errores de la red. ¿Qué tipo de imágenes o qué personajes dan más problemas a nuestro modelo?\n",
        "*   Comparación de modelos CNNs con un modelo de Fully Connected para este problema.\n",
        "*   Utilización de distintas arquitecturas CNNs, comentando aspectos como su profundidad, hiperparámetros utilizados, optimizador, uso de técnicas de regularización, *batch normalization*, etc.\n",
        "*   [ *algo más difícil* ] Utilización de *data augmentation*. Esto puede conseguirse con la clase [ImageDataGenerator](https://keras.io/preprocessing/image/#imagedatagenerator-class) de Keras.\n",
        "\n",
        "Notas: \n",
        "* Recuerda partir los datos en training/validation para tener una buena estimación de los valores que nuestro modelo tendrá en los datos de test, así como comprobar que no estamos cayendo en overfitting. Una posible partición puede ser 80 / 20.\n",
        "* No es necesario mostrar en el notebook las trazas de entrenamiento de todos los modelos entrenados, si bien una buena idea seria guardar gráficas de esos entrenamientos para el análisis. Sin embargo, **se debe mostrar el entrenamiento completo del mejor modelo obtenido y la evaluación de los datos de test con este modelo**.\n",
        "* Las imágenes **no están normalizadas**. Hay que normalizarlas como hemos hecho en trabajos anteriores.\n",
        "* El test set del problema tiene imágenes un poco más \"fáciles\", por lo que es posible encontrarse con métricas en el test set bastante mejores que en el training set."
      ]
    },
    {
      "cell_type": "markdown",
      "metadata": {
        "id": "xboXggLENqMB"
      },
      "source": [
        "Se normalizan los valores de los datasets de training y test para que estén entre 0 y 1"
      ]
    },
    {
      "cell_type": "code",
      "execution_count": 11,
      "metadata": {
        "id": "PyqZAqGTrkTL"
      },
      "outputs": [],
      "source": [
        "X  = X / 255.0\n",
        "X_t= X_t / 255.0\n",
        "\n"
      ]
    },
    {
      "cell_type": "markdown",
      "metadata": {
        "id": "hbhlWv_sNqMC"
      },
      "source": [
        "Se proporciona información de los datos a utilizar"
      ]
    },
    {
      "cell_type": "code",
      "execution_count": 12,
      "metadata": {
        "id": "A-XZdD0juRQM",
        "outputId": "e071cbbd-3f11-4686-c9cd-2238ab640053",
        "colab": {
          "base_uri": "https://localhost:8080/"
        }
      },
      "outputs": [
        {
          "output_type": "stream",
          "name": "stdout",
          "text": [
            "Número de imágenes de training: 18992\n",
            "Número de imágenes de test: 890\n",
            "El tamaño de las imágenes es: 60 x 60\n"
          ]
        }
      ],
      "source": [
        "#número de imágenes training\n",
        "print(f\"Número de imágenes de training: {X.shape[0]}\")\n",
        "#número de imágenes test\n",
        "print(f\"Número de imágenes de test: {X_t.shape[0]}\")\n",
        "# Se obtiene el tamaño de una imagen de entrenamiento\n",
        "print(f\"El tamaño de las imágenes es: {X.shape[1]} x {X.shape[2]}\")"
      ]
    },
    {
      "cell_type": "markdown",
      "metadata": {
        "id": "b03rX-p0NqMD"
      },
      "source": [
        "Se crea el dataset de validación en una proporción 80:20 respecto al de training original"
      ]
    },
    {
      "cell_type": "code",
      "execution_count": 13,
      "metadata": {
        "id": "6AEVl-3quRSt",
        "outputId": "082b1b72-ecc8-4dfd-9c03-67d69937f87e",
        "colab": {
          "base_uri": "https://localhost:8080/"
        }
      },
      "outputs": [
        {
          "output_type": "stream",
          "name": "stdout",
          "text": [
            "Número de imágenes de training: 15193\n",
            "Número de imágenes de validación: 3799\n"
          ]
        }
      ],
      "source": [
        "#Dividimos el juego de datos de train, en 80% para entrenar el modelo y 20% para validarlo\n",
        "train_images, val_images, train_labels, val_labels = train_test_split(X, y, test_size=0.2, random_state=42)\n",
        "\n",
        "print(f\"Número de imágenes de training: {train_images.shape[0]}\")\n",
        "#número de imágenes validación\n",
        "print(f\"Número de imágenes de validación: {val_images.shape[0]}\")\n",
        "\n"
      ]
    },
    {
      "cell_type": "markdown",
      "metadata": {
        "id": "WiVTj7cPNqME"
      },
      "source": [
        "Se plantea el primer modelo de CNN"
      ]
    },
    {
      "cell_type": "code",
      "execution_count": 14,
      "metadata": {
        "id": "i4Apu3KDNqMF"
      },
      "outputs": [],
      "source": [
        "from tensorflow.keras.applications import ResNet50, VGG16, VGG19, InceptionResNetV2\n",
        "from sklearn.metrics import classification_report, confusion_matrix\n",
        "import tensorflow as tf\n",
        "from tensorflow.keras.models import Model, Sequential\n",
        "from tensorflow.keras.layers import Conv2D, BatchNormalization, MaxPooling2D, Flatten, Dense, Dropout, GlobalAveragePooling2D, Activation\n",
        "from sklearn.model_selection import train_test_split\n",
        "from tensorflow.keras.optimizers import Adam, SGD\n",
        "from tensorflow.keras.callbacks import EarlyStopping, ReduceLROnPlateau\n",
        "\n",
        "\n",
        "img_height = 60\n",
        "img_width = 60\n",
        "batch_size = 32\n",
        "val_split = 0.2\n",
        "seed = 42\n",
        "num_classes = 4\n",
        "learning_rate = 0.001\n"
      ]
    },
    {
      "cell_type": "markdown",
      "metadata": {
        "id": "rzlUCXOrNqMF"
      },
      "source": [
        "Se pasan los labels a variables categóricas"
      ]
    },
    {
      "cell_type": "code",
      "execution_count": 15,
      "metadata": {
        "id": "duMLtARANqMG",
        "outputId": "5a050111-d9fb-4ef1-9d62-b670c622550a",
        "colab": {
          "base_uri": "https://localhost:8080/"
        }
      },
      "outputs": [
        {
          "output_type": "stream",
          "name": "stdout",
          "text": [
            "15193\n",
            "3799\n"
          ]
        }
      ],
      "source": [
        "from keras.utils import to_categorical\n",
        "training_labels = to_categorical(train_labels, num_classes=18)\n",
        "print(len(training_labels))\n",
        "validation_labels = to_categorical(val_labels, num_classes=18)\n",
        "print(len(val_labels))\n",
        "\n",
        "\n"
      ]
    },
    {
      "cell_type": "markdown",
      "source": [
        "Añadimos una Callback personalizada que nos va a permitir detener el entrenamiento."
      ],
      "metadata": {
        "id": "GA2y_xvD5RNW"
      }
    },
    {
      "cell_type": "code",
      "source": [
        "class myCallbackFinal(tf.keras.callbacks.Callback):\n",
        "      def on_epoch_end(self, epoch, logs={}):\n",
        "        if(logs.get('val_accuracy')> 0.96):\n",
        "              print(\"\\nAlcanzado el 96% de precisión en datos de test, se cancela el entrenamiento!!\")\n",
        "              self.model.stop_training = True\n",
        "\n",
        "callbackFinal = myCallbackFinal()"
      ],
      "metadata": {
        "id": "Jn4K5ZJv5P8c"
      },
      "execution_count": 16,
      "outputs": []
    },
    {
      "cell_type": "markdown",
      "metadata": {
        "id": "jdNVUoWgNqMG"
      },
      "source": [
        "Se construye el primer modelo"
      ]
    },
    {
      "cell_type": "code",
      "execution_count": 17,
      "metadata": {
        "id": "EAFy3MOINqMH"
      },
      "outputs": [],
      "source": [
        "def build_model():\n",
        "    model = tf.keras.models.Sequential([\n",
        "        Conv2D(64, (3, 3), activation='relu', padding='same', input_shape=(60, 60, 3)),\n",
        "        BatchNormalization(),\n",
        "        MaxPooling2D(pool_size=(2, 2)),\n",
        "        \n",
        "        Conv2D(128, (3, 3), activation='relu', padding='same'),\n",
        "        BatchNormalization(),\n",
        "        MaxPooling2D(pool_size=(2, 2)),\n",
        "        \n",
        "        Conv2D(256, (3, 3), activation='relu', padding='same'),\n",
        "        BatchNormalization(),\n",
        "        MaxPooling2D(pool_size=(2, 2)),\n",
        "\n",
        "        Conv2D(512, (3, 3), activation='relu', padding='same'),\n",
        "        BatchNormalization(),\n",
        "        MaxPooling2D(pool_size=(2, 2)),\n",
        "\n",
        "        Flatten(),\n",
        "        Dense(4096, activation='relu'),\n",
        "        BatchNormalization(),\n",
        "        Dropout(0.5),\n",
        "        Dense(2048, activation='relu'),\n",
        "        BatchNormalization(),\n",
        "        Dropout(0.5),\n",
        "        Dense(1024, activation='relu'),\n",
        "        BatchNormalization(),\n",
        "        Dropout(0.5),        \n",
        "        Dense(18, activation='softmax')  # 4 clases: sanas, enfermedad1, enfermedad2, enfermedad3\n",
        "     ])\n",
        "    print(model.summary())\n",
        "    return model"
      ]
    },
    {
      "cell_type": "markdown",
      "metadata": {
        "id": "3HBf00U7NqMH"
      },
      "source": [
        "Se entrena el primer modelo"
      ]
    },
    {
      "cell_type": "code",
      "execution_count": null,
      "metadata": {
        "id": "USHxvnZNNqMI",
        "outputId": "21854b79-a9c9-4b93-f113-7a43f6b6b11b",
        "colab": {
          "base_uri": "https://localhost:8080/"
        }
      },
      "outputs": [
        {
          "output_type": "stream",
          "name": "stdout",
          "text": [
            "Model: \"sequential\"\n",
            "_________________________________________________________________\n",
            " Layer (type)                Output Shape              Param #   \n",
            "=================================================================\n",
            " conv2d (Conv2D)             (None, 60, 60, 64)        1792      \n",
            "                                                                 \n",
            " batch_normalization (BatchN  (None, 60, 60, 64)       256       \n",
            " ormalization)                                                   \n",
            "                                                                 \n",
            " max_pooling2d (MaxPooling2D  (None, 30, 30, 64)       0         \n",
            " )                                                               \n",
            "                                                                 \n",
            " conv2d_1 (Conv2D)           (None, 30, 30, 128)       73856     \n",
            "                                                                 \n",
            " batch_normalization_1 (Batc  (None, 30, 30, 128)      512       \n",
            " hNormalization)                                                 \n",
            "                                                                 \n",
            " max_pooling2d_1 (MaxPooling  (None, 15, 15, 128)      0         \n",
            " 2D)                                                             \n",
            "                                                                 \n",
            " conv2d_2 (Conv2D)           (None, 15, 15, 256)       295168    \n",
            "                                                                 \n",
            " batch_normalization_2 (Batc  (None, 15, 15, 256)      1024      \n",
            " hNormalization)                                                 \n",
            "                                                                 \n",
            " max_pooling2d_2 (MaxPooling  (None, 7, 7, 256)        0         \n",
            " 2D)                                                             \n",
            "                                                                 \n",
            " conv2d_3 (Conv2D)           (None, 7, 7, 512)         1180160   \n",
            "                                                                 \n",
            " batch_normalization_3 (Batc  (None, 7, 7, 512)        2048      \n",
            " hNormalization)                                                 \n",
            "                                                                 \n",
            " max_pooling2d_3 (MaxPooling  (None, 3, 3, 512)        0         \n",
            " 2D)                                                             \n",
            "                                                                 \n",
            " flatten (Flatten)           (None, 4608)              0         \n",
            "                                                                 \n",
            " dense (Dense)               (None, 4096)              18878464  \n",
            "                                                                 \n",
            " batch_normalization_4 (Batc  (None, 4096)             16384     \n",
            " hNormalization)                                                 \n",
            "                                                                 \n",
            " dropout (Dropout)           (None, 4096)              0         \n",
            "                                                                 \n",
            " dense_1 (Dense)             (None, 2048)              8390656   \n",
            "                                                                 \n",
            " batch_normalization_5 (Batc  (None, 2048)             8192      \n",
            " hNormalization)                                                 \n",
            "                                                                 \n",
            " dropout_1 (Dropout)         (None, 2048)              0         \n",
            "                                                                 \n",
            " dense_2 (Dense)             (None, 1024)              2098176   \n",
            "                                                                 \n",
            " batch_normalization_6 (Batc  (None, 1024)             4096      \n",
            " hNormalization)                                                 \n",
            "                                                                 \n",
            " dropout_2 (Dropout)         (None, 1024)              0         \n",
            "                                                                 \n",
            " dense_3 (Dense)             (None, 18)                18450     \n",
            "                                                                 \n",
            "=================================================================\n",
            "Total params: 30,969,234\n",
            "Trainable params: 30,952,978\n",
            "Non-trainable params: 16,256\n",
            "_________________________________________________________________\n",
            "None\n",
            "Epoch 1/40\n",
            "475/475 [==============================] - 851s 2s/step - loss: 3.6238 - accuracy: 0.1445 - val_loss: 2.4925 - val_accuracy: 0.2706\n",
            "Epoch 2/40\n",
            "475/475 [==============================] - 849s 2s/step - loss: 2.8178 - accuracy: 0.2820 - val_loss: 1.8116 - val_accuracy: 0.4772\n",
            "Epoch 3/40\n",
            "475/475 [==============================] - 850s 2s/step - loss: 2.4747 - accuracy: 0.3561 - val_loss: 1.5176 - val_accuracy: 0.5478\n",
            "Epoch 4/40\n",
            "475/475 [==============================] - 854s 2s/step - loss: 2.1954 - accuracy: 0.4168 - val_loss: 1.3807 - val_accuracy: 0.5883\n",
            "Epoch 5/40\n",
            "475/475 [==============================] - 850s 2s/step - loss: 1.9822 - accuracy: 0.4664 - val_loss: 1.3400 - val_accuracy: 0.6073\n",
            "Epoch 6/40\n",
            "475/475 [==============================] - 845s 2s/step - loss: 1.8287 - accuracy: 0.5037 - val_loss: 1.2646 - val_accuracy: 0.6281\n",
            "Epoch 7/40\n",
            "475/475 [==============================] - 795s 2s/step - loss: 1.6930 - accuracy: 0.5308 - val_loss: 1.1553 - val_accuracy: 0.6670\n",
            "Epoch 8/40\n",
            "475/475 [==============================] - 839s 2s/step - loss: 1.5813 - accuracy: 0.5589 - val_loss: 1.1033 - val_accuracy: 0.6778\n",
            "Epoch 9/40\n",
            "475/475 [==============================] - 835s 2s/step - loss: 1.4780 - accuracy: 0.5842 - val_loss: 1.0472 - val_accuracy: 0.6954\n",
            "Epoch 10/40\n",
            "475/475 [==============================] - 818s 2s/step - loss: 1.3764 - accuracy: 0.6039 - val_loss: 0.9938 - val_accuracy: 0.7041\n",
            "Epoch 11/40\n",
            "475/475 [==============================] - 821s 2s/step - loss: 1.2946 - accuracy: 0.6314 - val_loss: 0.9455 - val_accuracy: 0.7297\n",
            "Epoch 12/40\n",
            "475/475 [==============================] - 817s 2s/step - loss: 1.2050 - accuracy: 0.6505 - val_loss: 0.8815 - val_accuracy: 0.7439\n",
            "Epoch 13/40\n",
            "475/475 [==============================] - 833s 2s/step - loss: 1.1274 - accuracy: 0.6686 - val_loss: 0.8865 - val_accuracy: 0.7412\n",
            "Epoch 14/40\n",
            "475/475 [==============================] - 832s 2s/step - loss: 1.0703 - accuracy: 0.6834 - val_loss: 0.9208 - val_accuracy: 0.7257\n",
            "Epoch 15/40\n",
            "475/475 [==============================] - 835s 2s/step - loss: 0.9984 - accuracy: 0.6995 - val_loss: 0.8657 - val_accuracy: 0.7478\n",
            "Epoch 16/40\n",
            "475/475 [==============================] - 839s 2s/step - loss: 0.9609 - accuracy: 0.7133 - val_loss: 0.8223 - val_accuracy: 0.7644\n",
            "Epoch 17/40\n",
            "475/475 [==============================] - 848s 2s/step - loss: 0.9030 - accuracy: 0.7276 - val_loss: 0.7427 - val_accuracy: 0.7849\n",
            "Epoch 18/40\n",
            "475/475 [==============================] - 842s 2s/step - loss: 0.8421 - accuracy: 0.7479 - val_loss: 0.7440 - val_accuracy: 0.7815\n",
            "Epoch 19/40\n",
            "475/475 [==============================] - 832s 2s/step - loss: 0.8122 - accuracy: 0.7520 - val_loss: 0.7245 - val_accuracy: 0.7944\n",
            "Epoch 20/40\n",
            "475/475 [==============================] - 844s 2s/step - loss: 0.7635 - accuracy: 0.7664 - val_loss: 0.6791 - val_accuracy: 0.7978\n",
            "Epoch 21/40\n",
            "475/475 [==============================] - 845s 2s/step - loss: 0.7318 - accuracy: 0.7749 - val_loss: 0.6839 - val_accuracy: 0.8036\n",
            "Epoch 22/40\n",
            "475/475 [==============================] - 855s 2s/step - loss: 0.6827 - accuracy: 0.7925 - val_loss: 0.6323 - val_accuracy: 0.8186\n",
            "Epoch 23/40\n",
            "475/475 [==============================] - 845s 2s/step - loss: 0.6593 - accuracy: 0.7931 - val_loss: 0.6320 - val_accuracy: 0.8178\n",
            "Epoch 24/40\n",
            "475/475 [==============================] - 841s 2s/step - loss: 0.6230 - accuracy: 0.8064 - val_loss: 0.6224 - val_accuracy: 0.8192\n",
            "Epoch 25/40\n",
            "475/475 [==============================] - 842s 2s/step - loss: 0.6013 - accuracy: 0.8164 - val_loss: 0.6047 - val_accuracy: 0.8244\n",
            "Epoch 26/40\n",
            "475/475 [==============================] - 854s 2s/step - loss: 0.5696 - accuracy: 0.8244 - val_loss: 0.5772 - val_accuracy: 0.8307\n",
            "Epoch 27/40\n",
            "475/475 [==============================] - 853s 2s/step - loss: 0.5423 - accuracy: 0.8320 - val_loss: 0.5951 - val_accuracy: 0.8307\n",
            "Epoch 28/40\n",
            "409/475 [========================>.....] - ETA: 1:47 - loss: 0.5107 - accuracy: 0.8388"
          ]
        }
      ],
      "source": [
        "model = build_model()\n",
        "model.compile(loss = 'categorical_crossentropy', optimizer=SGD(learning_rate=learning_rate), metrics=['accuracy'])\n",
        "history = model.fit(train_images, training_labels, epochs=40, batch_size=32, validation_data=(val_images, validation_labels), callbacks=[callbackFinal])\n"
      ]
    },
    {
      "cell_type": "markdown",
      "metadata": {
        "id": "bwzf4PxYNqMI"
      },
      "source": [
        "Se evalua el modelo con los datos de test"
      ]
    },
    {
      "cell_type": "code",
      "execution_count": null,
      "metadata": {
        "id": "g-ILt1KfNqMI"
      },
      "outputs": [],
      "source": [
        "test_labels = to_categorical(y_t, num_classes=18)\n",
        "test_loss, test_accuracy = model.evaluate(X_t, test_labels)\n",
        "print(\"Test Loss: \", test_loss)\n",
        "print(\"Test Accuracy: \", test_accuracy)"
      ]
    },
    {
      "cell_type": "markdown",
      "metadata": {
        "id": "iT-rNDZoNqMJ"
      },
      "source": [
        "Se crea la matriz de confusión y el classification report para ver como se han comportado cada una de las clases"
      ]
    },
    {
      "cell_type": "code",
      "execution_count": null,
      "metadata": {
        "id": "1PFAPfWVNqMJ"
      },
      "outputs": [],
      "source": [
        "class_names = [MAP_CHARACTERS[i] for i in range(len(MAP_CHARACTERS))]\n",
        "\n",
        "# Matriz de confusión y métricas adicionales\n",
        "Y_pred = model.predict(X_t)\n",
        "y_pred = np.argmax(Y_pred, axis=1)\n",
        "\n",
        "print('Classification Report:')\n",
        "print(classification_report(y_t, y_pred, target_names=class_names))\n",
        "\n",
        "print('Confusion Matrix:')\n",
        "print(confusion_matrix(y_t, y_pred))\n",
        "\n",
        "\n",
        "# list all data in history\n",
        "print(history.history.keys())\n",
        "# summarize history for accuracy\n",
        "plt.plot(history.history['accuracy'])\n",
        "plt.plot(history.history['val_accuracy'])\n",
        "plt.title('model accuracy')\n",
        "plt.ylabel('accuracy')\n",
        "plt.xlabel('epoch')\n",
        "plt.legend(['train', 'test'], loc='upper left')\n",
        "plt.show()\n",
        "# summarize history for loss\n",
        "plt.plot(history.history['loss'])\n",
        "plt.plot(history.history['val_loss'])\n",
        "plt.title('model loss')\n",
        "plt.ylabel('loss')\n",
        "plt.xlabel('epoch')\n",
        "plt.legend(['train', 'test'], loc='upper left')\n",
        "plt.show()"
      ]
    },
    {
      "cell_type": "markdown",
      "source": [
        "Utilizamos un segundo modelo,. con un menor número de capas:"
      ],
      "metadata": {
        "id": "7jY_bl6cvypv"
      }
    },
    {
      "cell_type": "code",
      "source": [
        "model_example = tf.keras.models.Sequential([\n",
        "    # Note the input shape is the desired size of the image 150x150 with 3 bytes color\n",
        "    # This is the first convolution\n",
        "    tf.keras.layers.Conv2D(32, (3,3), activation='relu', input_shape=(60, 60, 3)),\n",
        "    tf.keras.layers.MaxPooling2D(2, 2),\n",
        "    # The second convolution\n",
        "    tf.keras.layers.Conv2D(64, (3,3), activation='relu'),\n",
        "    tf.keras.layers.MaxPooling2D(2,2),\n",
        "    # The third convolution\n",
        "    tf.keras.layers.Conv2D(128, (3,3), activation='relu'),\n",
        "    tf.keras.layers.MaxPooling2D(2,2),\n",
        "    # The fourth convolution\n",
        "    #tf.keras.layers.Conv2D(128, (3,3), activation='relu'),\n",
        "    #tf.keras.layers.MaxPooling2D(2,2),\n",
        "    # Flatten the results to feed into a DNN\n",
        "    tf.keras.layers.Flatten(),\n",
        "    tf.keras.layers.Dropout(0.2),\n",
        "    # 512 neuron hidden layer\n",
        "    tf.keras.layers.Dense(512, activation='relu'),\n",
        "    tf.keras.layers.Dense(18, activation='softmax')\n",
        "])\n",
        "\n",
        "\n",
        "\n",
        "model_example.summary()\n",
        "model_example.compile(loss = 'categorical_crossentropy', optimizer=SGD(learning_rate=learning_rate), metrics=['accuracy'])\n",
        "history = model_example.fit(train_images, training_labels, epochs=40, batch_size=32, validation_data=(val_images, validation_labels), callbacks=[callbackFinal])"
      ],
      "metadata": {
        "id": "nqNqTfnov28H"
      },
      "execution_count": null,
      "outputs": []
    },
    {
      "cell_type": "code",
      "source": [
        "test_labels = to_categorical(y_t, num_classes=18)\n",
        "test_loss, test_accuracy = model_example.evaluate(X_t, test_labels)\n",
        "print(\"Test Loss: \", test_loss)\n",
        "print(\"Test Accuracy: \", test_accuracy)\n",
        "\n",
        "class_names = [MAP_CHARACTERS[i] for i in range(len(MAP_CHARACTERS))]\n",
        "\n",
        "# Matriz de confusión y métricas adicionales\n",
        "Y_pred = model_example.predict(X_t)\n",
        "y_pred = np.argmax(Y_pred, axis=1)\n",
        "\n",
        "print('Classification Report:')\n",
        "print(classification_report(y_t, y_pred, target_names=class_names))\n",
        "\n",
        "print('Confusion Matrix:')\n",
        "print(confusion_matrix(y_t, y_pred))\n",
        "\n",
        "# list all data in history\n",
        "print(history.history.keys())\n",
        "# summarize history for accuracy\n",
        "plt.plot(history.history['accuracy'])\n",
        "plt.plot(history.history['val_accuracy'])\n",
        "plt.title('model accuracy')\n",
        "plt.ylabel('accuracy')\n",
        "plt.xlabel('epoch')\n",
        "plt.legend(['train', 'test'], loc='upper left')\n",
        "plt.show()\n",
        "# summarize history for loss\n",
        "plt.plot(history.history['loss'])\n",
        "plt.plot(history.history['val_loss'])\n",
        "plt.title('model loss')\n",
        "plt.ylabel('loss')\n",
        "plt.xlabel('epoch')\n",
        "plt.legend(['train', 'test'], loc='upper left')\n",
        "plt.show()"
      ],
      "metadata": {
        "id": "pekP8bFiwQBz"
      },
      "execution_count": null,
      "outputs": []
    },
    {
      "cell_type": "markdown",
      "source": [
        "Podemos ver como utilizando un modelo más \"simple\" se obtienen mejores resultados, es decir, (citando la corrección de la actividad 1): Es necesario comprender que en Inteligencia Artificial el 100% no existe prácticamente en ningún caso (salvo en casos ideales) y que, en muchas ocasiones, no por utilizar las cosas más complejas se obtienen los mejores resultados (aunque en otras sí). Una capa oculta de 150 neuronas con una leaky rely (para que no mueran muchas neuronas) es suficiente para obtener este resultado."
      ],
      "metadata": {
        "id": "fCaCimD43CuB"
      }
    },
    {
      "cell_type": "markdown",
      "metadata": {
        "id": "gKlcxVcSNqMJ"
      },
      "source": [
        "Se crea un segundo modelo, en este caso de Transfer Learning usando como base la red pre-etrenada VGG19"
      ]
    },
    {
      "cell_type": "code",
      "execution_count": null,
      "metadata": {
        "id": "tnCgu_4ZNqMJ"
      },
      "outputs": [],
      "source": [
        "def build_modelVGG19():\n",
        "    # Cargar la red pre-entrenada VGG19\n",
        "    base_model = VGG19(weights='imagenet', include_top=False, input_shape=(img_height, img_width, 3))\n",
        "    \n",
        "    # Congelar todas las capas de la red base excepto las últimas 12\n",
        "    for layer in base_model.layers[:-12]:\n",
        "        layer.trainable = False\n",
        "        \n",
        "    # Añadir capas adicionales para la clasificación\n",
        "    x = base_model.output\n",
        "    x = GlobalAveragePooling2D()(x)\n",
        "    x = Dense(1024, activation='relu')(x)\n",
        "    x = Dropout(0.5)(x)\n",
        "    x = Dense(512, activation='relu')(x)\n",
        "    x = Dropout(0.5)(x)\n",
        "    output = Dense(18, activation='softmax')(x)\n",
        "\n",
        "    \n",
        "    \n",
        "    # Crear el modelo final\n",
        "    model = Model(inputs=base_model.input, outputs=output)\n",
        "    \n",
        "    # Compilar el modelo\n",
        "    model.compile(optimizer=Adam(learning_rate=0.0001),\n",
        "                  loss='categorical_crossentropy',\n",
        "                  metrics=['accuracy'])\n",
        "    \n",
        "    return model"
      ]
    },
    {
      "cell_type": "markdown",
      "metadata": {
        "id": "WKtpl_SVNqMK"
      },
      "source": [
        "Se entrena el modelo"
      ]
    },
    {
      "cell_type": "code",
      "execution_count": null,
      "metadata": {
        "id": "HIgRFskYNqMK"
      },
      "outputs": [],
      "source": [
        "modelvgg19 = build_modelVGG19()\n",
        "modelvgg19.summary()\n",
        "history = modelvgg19.fit(train_images, training_labels, epochs=20, batch_size=64, validation_data=(val_images, validation_labels))\n"
      ]
    },
    {
      "cell_type": "markdown",
      "metadata": {
        "id": "OndVg9dJNqML"
      },
      "source": [
        "Se evalua con el dataset de test"
      ]
    },
    {
      "cell_type": "code",
      "execution_count": null,
      "metadata": {
        "id": "_ITXYG0nNqML"
      },
      "outputs": [],
      "source": [
        "test_loss, test_accuracy = modelvgg19.evaluate(X_t, test_labels)\n",
        "print(\"Test Loss: \", test_loss)\n",
        "print(\"Test Accuracy: \", test_accuracy)"
      ]
    },
    {
      "cell_type": "markdown",
      "metadata": {
        "id": "Eld9lL24NqMM"
      },
      "source": [
        "Se crea la matriz de confusión y el classification report para ver como se han comportado cada una de las clases"
      ]
    },
    {
      "cell_type": "code",
      "execution_count": null,
      "metadata": {
        "id": "vInmfv30NqMM"
      },
      "outputs": [],
      "source": [
        "class_names = [MAP_CHARACTERS[i] for i in range(len(MAP_CHARACTERS))]\n",
        "\n",
        "# Matriz de confusión y métricas adicionales\n",
        "Y_pred = modelvgg19.predict(X_t)\n",
        "y_pred = np.argmax(Y_pred, axis=1)\n",
        "\n",
        "print('Classification Report:')\n",
        "print(classification_report(y_t, y_pred, target_names=class_names))\n",
        "\n",
        "print('Confusion Matrix:')\n",
        "print(confusion_matrix(y_t, y_pred))"
      ]
    },
    {
      "cell_type": "markdown",
      "metadata": {
        "id": "oCpD_fQXNqMN"
      },
      "source": [
        "Ahora vamos con la parte de Data Augmentation"
      ]
    },
    {
      "cell_type": "code",
      "execution_count": null,
      "metadata": {
        "id": "GcEjwyHwNqMa"
      },
      "outputs": [],
      "source": [
        "from tensorflow.keras.preprocessing.image import ImageDataGenerator\n",
        "\n",
        "classes_to_keep = [MAP_CHARACTERS[i] for i in range(len(MAP_CHARACTERS))]\n",
        "\n",
        "datagen = ImageDataGenerator(\n",
        "        rescale = 1./255,\n",
        "\trotation_range=40,\n",
        "        width_shift_range=0.2,\n",
        "        height_shift_range=0.2,\n",
        "        shear_range=0.2,\n",
        "        zoom_range=0.2,\n",
        "        horizontal_flip=True,\n",
        "        fill_mode='nearest',\n",
        "        validation_split=0.2)  # aquí es donde especificas la división\n",
        "\n",
        "# Generador para el entrenamiento\n",
        "train_generator = datagen.flow_from_directory(\n",
        "        '/root/.keras/datasets/simpsons',  # directorio que contiene las imágenes\n",
        "        target_size=(60, 60),\n",
        "        batch_size=64,\n",
        "        class_mode='categorical',\n",
        "        classes=classes_to_keep,\n",
        "        shuffle=True,\n",
        "        subset='training')  # especifica que estas imágenes son para entrenamiento\n",
        "\n",
        "# Generador para la validación\n",
        "validation_generator = datagen.flow_from_directory(\n",
        "        '/root/.keras/datasets/simpsons',  # nota que usamos el mismo directorio que antes\n",
        "        target_size=(60, 60),\n",
        "        batch_size=64,\n",
        "        class_mode='categorical',\n",
        "        classes=classes_to_keep,\n",
        "        shuffle=False,\n",
        "        subset='validation')  # especifica que estas imágenes son para validación\n",
        "\n"
      ]
    },
    {
      "cell_type": "markdown",
      "metadata": {
        "id": "U_3PEGjDNqMb"
      },
      "source": [
        "Adicionalmente y para que el Test Generator sea capaz de leer correctamente las imágenes de simpsons_testset, se proporciona este script que crea un directorio por clase y mueve cada imagen a su directorio correspondiente"
      ]
    },
    {
      "cell_type": "code",
      "execution_count": null,
      "metadata": {
        "id": "UlCx1V9aNqMb"
      },
      "outputs": [],
      "source": [
        "import os\n",
        "import shutil\n",
        "\n",
        "# Directorio donde están todas las imágenes\n",
        "src_dir = '/root/.keras/datasets/simpsons_testset'\n",
        "\n",
        "# Obtén la lista de todas las imágenes\n",
        "image_files = os.listdir(src_dir)\n",
        "\n",
        "for img in image_files:\n",
        "    # Ignora los directorios, procesa solo archivos\n",
        "    if not os.path.isfile(os.path.join(src_dir, img)):\n",
        "        continue\n",
        "\n",
        "    # Obtén el nombre de la clase de la imagen (todo lo que precede al último '_')\n",
        "    class_name = '_'.join(img.split('_')[:-1])\n",
        "\n",
        "    # Define el nombre del subdirectorio\n",
        "    class_dir = os.path.join(src_dir, class_name)\n",
        "    \n",
        "    # Si el subdirectorio no existe, crea el subdirectorio\n",
        "    if not os.path.exists(class_dir):\n",
        "        os.mkdir(class_dir)\n",
        "    \n",
        "    # Define el nombre de archivo del destino\n",
        "    dst_file = os.path.join(class_dir, img)\n",
        "    \n",
        "    # Si el archivo de destino no existe, mueve la imagen al subdirectorio\n",
        "    if not os.path.exists(dst_file):\n",
        "        shutil.move(os.path.join(src_dir, img), dst_file)\n"
      ]
    },
    {
      "cell_type": "markdown",
      "metadata": {
        "id": "tlqctCyaNqMc"
      },
      "source": [
        "Se cargan las imagenes de test"
      ]
    },
    {
      "cell_type": "code",
      "execution_count": null,
      "metadata": {
        "id": "wxRY0VXaNqMc"
      },
      "outputs": [],
      "source": [
        "\n",
        "test_datagen = ImageDataGenerator(rescale = 1./255)  \n",
        "\n",
        "test_generator = test_datagen.flow_from_directory(\n",
        "        '/root/.keras/datasets/simpsons_testset', \n",
        "        target_size=(60, 60),\n",
        "        batch_size=64,\n",
        "        class_mode='categorical',\n",
        "        classes=classes_to_keep,\n",
        "        shuffle=False) \n",
        "\n"
      ]
    },
    {
      "cell_type": "markdown",
      "metadata": {
        "id": "HyZN82Q6NqMd"
      },
      "source": [
        "Se entrena con el primer modelo"
      ]
    },
    {
      "cell_type": "code",
      "execution_count": null,
      "metadata": {
        "id": "AnZa3BiRNqMe"
      },
      "outputs": [],
      "source": [
        "model = build_modelVGG19()\n",
        "model.compile(loss = 'categorical_crossentropy', optimizer=Adam(learning_rate=0.0001), metrics=['accuracy'])\n",
        "h15=model.fit(\n",
        "    train_generator,\n",
        "    epochs=20,\n",
        "    batch_size=64,\n",
        "    validation_data=validation_generator)  # ajustado para usar todos los datos\n"
      ]
    },
    {
      "cell_type": "markdown",
      "metadata": {
        "id": "Ef-kqkMgNqMe"
      },
      "source": [
        "Se evalua con los datos de test"
      ]
    },
    {
      "cell_type": "code",
      "source": [
        "# list all data in history\n",
        "print(h15.history.keys())\n",
        "# summarize history for accuracy\n",
        "plt.plot(h15.history['accuracy'])\n",
        "plt.plot(h15.history['val_accuracy'])\n",
        "plt.title('model accuracy')\n",
        "plt.ylabel('accuracy')\n",
        "plt.xlabel('epoch')\n",
        "plt.legend(['train', 'test'], loc='upper left')\n",
        "plt.show()\n",
        "# summarize history for loss\n",
        "plt.plot(h15.history['loss'])\n",
        "plt.plot(h15.history['val_loss'])\n",
        "plt.title('model loss')\n",
        "plt.ylabel('loss')\n",
        "plt.xlabel('epoch')\n",
        "plt.legend(['train', 'test'], loc='upper left')\n",
        "plt.show()"
      ],
      "metadata": {
        "id": "y5MYIDKmbLFO"
      },
      "execution_count": null,
      "outputs": []
    },
    {
      "cell_type": "code",
      "execution_count": null,
      "metadata": {
        "id": "j8HaimuzNqMf"
      },
      "outputs": [],
      "source": [
        "test_loss, test_accuracy = model.evaluate(test_generator)\n",
        "print(\"Test Loss: \", test_loss)\n",
        "print(\"Test Accuracy: \", test_accuracy)"
      ]
    },
    {
      "cell_type": "markdown",
      "metadata": {
        "id": "78qhAOJINqMg"
      },
      "source": [
        "Se crea la matriz de confusión y el classification report para ver como se han comportado cada una de las clases"
      ]
    },
    {
      "cell_type": "code",
      "execution_count": null,
      "metadata": {
        "id": "G2nuo2oSNqMh"
      },
      "outputs": [],
      "source": [
        "class_names = [MAP_CHARACTERS[i] for i in range(len(MAP_CHARACTERS))]\n",
        "\n",
        "#Etiquetas verdaderas\n",
        "y_true = test_generator.classes\n",
        "\n",
        "# Se hace la predicción\n",
        "Y_pred = model.predict(test_generator)\n",
        "y_pred = np.argmax(Y_pred, axis=1)\n",
        "\n",
        "print('Classification Report:')\n",
        "print(classification_report(y_true, y_pred, target_names=class_names))\n",
        "\n",
        "print('Confusion Matrix:')\n",
        "print(confusion_matrix(y_true, y_pred))"
      ]
    },
    {
      "cell_type": "code",
      "execution_count": null,
      "metadata": {
        "id": "F15dbDIgNqMh"
      },
      "outputs": [],
      "source": [
        "import seaborn as sns\n",
        "import matplotlib.pyplot as plt\n",
        "from sklearn.metrics import confusion_matrix\n",
        "\n",
        "# Calcula la matriz de confusión\n",
        "cm = confusion_matrix(y_true, y_pred)\n",
        "\n",
        "# Crea una figura y un conjunto de ejes\n",
        "fig, ax = plt.subplots(figsize=(10,10))\n",
        "\n",
        "# Crea un mapa de calor a partir de la matriz de confusión\n",
        "sns.heatmap(cm, annot=True, fmt=\"d\", ax=ax, cmap=\"Blues\", cbar=False)\n",
        "\n",
        "# Añade las etiquetas a los ejes\n",
        "ax.set_xlabel('Predicted labels')\n",
        "ax.set_ylabel('True labels')\n",
        "ax.set_title('Confusion Matrix')\n",
        "\n",
        "# Añade las etiquetas de las clases a los ejes\n",
        "ax.set_xticklabels(class_names, rotation=90)  # Etiquetas en vertical en el eje X\n",
        "ax.set_yticklabels(class_names, rotation=0)   # Etiquetas en horizontal en el eje Y\n",
        "\n",
        "# Muestra la figura\n",
        "plt.show()\n"
      ]
    },
    {
      "cell_type": "code",
      "source": [
        "class myCallbackFinal(tf.keras.callbacks.Callback):\n",
        "      def on_epoch_end(self, epoch, logs={}):\n",
        "        if(logs.get('val_accuracy')> 0.89):\n",
        "              print(\"\\nAlcanzado el 89% de precisión en datos de test, se cancela el entrenamiento!!\")\n",
        "              self.model.stop_training = True\n",
        "\n",
        "callbackFinal = myCallbackFinal()\n",
        "\n",
        "model_fully_connected= keras.Sequential([\n",
        "    keras.layers.Flatten(input_shape=(60, 60, 3)),\n",
        "    keras.layers.Dense(150, activation='elu'),\n",
        "    keras.layers.Dense(18, activation='softmax')\n",
        "])\n",
        "\n",
        "model_fully_connected.compile(optimizer=Adam(learning_rate=0.0001),\n",
        "                  loss='categorical_crossentropy',\n",
        "                  metrics=['accuracy'])\n",
        "\n",
        "history_final = model_fully_connected.fit(train_images, training_labels, epochs=40, batch_size=64, validation_data=(val_images, validation_labels), callbacks=[callbackFinal])\n"
      ],
      "metadata": {
        "id": "p_Hw26Plc3dT"
      },
      "execution_count": null,
      "outputs": []
    },
    {
      "cell_type": "code",
      "source": [
        "# list all data in history\n",
        "print(history_final.history.keys())\n",
        "# summarize history for accuracy\n",
        "plt.plot(history_final.history['accuracy'])\n",
        "plt.plot(history_final.history['val_accuracy'])\n",
        "plt.title('model accuracy')\n",
        "plt.ylabel('accuracy')\n",
        "plt.xlabel('epoch')\n",
        "plt.legend(['train', 'test'], loc='upper left')\n",
        "plt.show()\n",
        "# summarize history for loss\n",
        "plt.plot(history_final.history['loss'])\n",
        "plt.plot(history_final.history['val_loss'])\n",
        "plt.title('model loss')\n",
        "plt.ylabel('loss')\n",
        "plt.xlabel('epoch')\n",
        "plt.legend(['train', 'test'], loc='upper left')\n",
        "plt.show()"
      ],
      "metadata": {
        "id": "gnrXB4galPxw"
      },
      "execution_count": null,
      "outputs": []
    },
    {
      "cell_type": "markdown",
      "source": [],
      "metadata": {
        "id": "W2dLY0lEc9sa"
      }
    },
    {
      "cell_type": "code",
      "source": [
        "test_loss, test_accuracy = model_fully_connected.evaluate(X_t, test_labels, verbose=2)\n",
        "print('Precisión del modelo:', test_accuracy)"
      ],
      "metadata": {
        "id": "UDhQgw6Mc-CZ"
      },
      "execution_count": null,
      "outputs": []
    },
    {
      "cell_type": "code",
      "source": [],
      "metadata": {
        "id": "mvmoXyzViT6M"
      },
      "execution_count": null,
      "outputs": []
    }
  ],
  "metadata": {
    "accelerator": "GPU",
    "colab": {
      "name": "Actividad_2_Redes_Neuronales_Convolucionales_CNN.ipynb",
      "provenance": []
    },
    "kernelspec": {
      "display_name": "Python 3",
      "name": "python3"
    },
    "language_info": {
      "codemirror_mode": {
        "name": "ipython",
        "version": 3
      },
      "file_extension": ".py",
      "mimetype": "text/x-python",
      "name": "python",
      "nbconvert_exporter": "python",
      "pygments_lexer": "ipython3",
      "version": "3.10.9"
    }
  },
  "nbformat": 4,
  "nbformat_minor": 0
}